{
 "cells": [
  {
   "cell_type": "code",
   "execution_count": null,
   "metadata": {},
   "outputs": [],
   "source": [
    "from ultralytics import YOLO\n",
    "import torch"
   ]
  },
  {
   "cell_type": "markdown",
   "metadata": {},
   "source": [
    "# Train the Ultralytics YOLOv8l model on the Zhousidun data"
   ]
  },
  {
   "cell_type": "code",
   "execution_count": null,
   "metadata": {},
   "outputs": [],
   "source": [
    "# Load a COCO-pretrained YOLOv8n model\n",
    "model = YOLO('yolov8l.pt')\n",
    "\n",
    "gpus = torch.cuda.device_count()\n",
    "\n",
    "# Train the model on the dataset for 100 epochs\n",
    "results = model.train(data='/home/ritwik/data/zeus/yolov8/data.yaml',\n",
    "    epochs=200,\n",
    "    imgsz=640,\n",
    "    augment=True,\n",
    "    device=list(range(gpus)),\n",
    "    batch=-1)"
   ]
  },
  {
   "cell_type": "markdown",
   "metadata": {},
   "source": [
    "# Evaluate the model on the synthetic Blender scene"
   ]
  },
  {
   "cell_type": "code",
   "execution_count": null,
   "metadata": {},
   "outputs": [],
   "source": [
    "from ultralytics import YOLO\n",
    "model = YOLO('runs/detect/yolo_best_200ep/weights/best.pt')\n",
    "model.val(data='/home/ritwik/data/blender_boat/data_valid.yaml', imgsz=640, plots=True)"
   ]
  },
  {
   "cell_type": "code",
   "execution_count": null,
   "metadata": {},
   "outputs": [],
   "source": [
    "model.val(data='/home/ritwik/data/blender_boat/data_oblique.yaml', imgsz=640, plots=True)"
   ]
  },
  {
   "cell_type": "code",
   "execution_count": null,
   "metadata": {},
   "outputs": [],
   "source": [
    "model.val(data='/home/ritwik/data/blender_boat/data_satellite.yaml', imgsz=640, plots=True)"
   ]
  },
  {
   "cell_type": "markdown",
   "metadata": {},
   "source": [
    "# Various plotting functions"
   ]
  },
  {
   "cell_type": "code",
   "execution_count": null,
   "metadata": {},
   "outputs": [],
   "source": [
    "def yolo_to_xywh(cx, cy, nw, nh, img_width, img_height):\n",
    "    x = (cx - nw / 2) * img_width\n",
    "    y = (cy - nh / 2) * img_height\n",
    "    w = nw * img_width\n",
    "    h = nh * img_height\n",
    "\n",
    "    return x, y, w, h"
   ]
  },
  {
   "cell_type": "code",
   "execution_count": null,
   "metadata": {},
   "outputs": [],
   "source": [
    "from pathlib import Path\n",
    "from ultralytics.utils.plotting import Annotator\n",
    "from PIL import Image\n",
    "import numpy as np\n",
    "from matplotlib.patches import Rectangle\n",
    "from ultralytics import YOLO\n",
    "import matplotlib.pyplot as plt\n",
    "\n",
    "model = YOLO('/home/ritwik/zeus/runs/detect/yolo_best_200ep/weights/best.pt')\n",
    "\n",
    "images = list(Path(\"/home/ritwik/data/blender_boat/valid/images\").glob(\"*.png\"))[:-1]\n",
    "labels = [str(x).replace(\"images\", \"labels\").replace(\".png\", \".txt\") for x in images]\n",
    "print(len(images))"
   ]
  },
  {
   "cell_type": "code",
   "execution_count": null,
   "metadata": {},
   "outputs": [],
   "source": [
    "fig, ax = plt.subplots(16, 4, figsize=(8, 16))\n",
    "ax = ax.flatten()\n",
    "\n",
    "for idx, paths in enumerate(zip(images, labels)):\n",
    "    img_path = paths[0]\n",
    "    label_path = paths[1]\n",
    "    img = Image.open(img_path)\n",
    "    width = img.width\n",
    "    height = img.height\n",
    "    img = np.array(img.convert('RGB'))\n",
    "    ax[idx].imshow(img)\n",
    "    ax[idx].axis('off')\n",
    "\n",
    "    results = model.predict(img, imgsz=640)\n",
    "\n",
    "    for gt in open(label_path, 'r').readlines():\n",
    "        splits = gt.split(\" \")\n",
    "        cx = float(splits[1])\n",
    "        cy = float(splits[2])\n",
    "        nw = float(splits[3])\n",
    "        nh = float(splits[4])\n",
    "        x, y, w, h = yolo_to_xywh(cx, cy, nw, nh, width, height)\n",
    "        rect = Rectangle((x, y), w, h, linewidth=2, edgecolor='g', facecolor='none')\n",
    "        ax[idx].add_patch(rect)\n",
    "\n",
    "    for r in results:\n",
    "        boxes = r.boxes.xywh.cpu()\n",
    "        for box in boxes:\n",
    "            rect = Rectangle((box[0], box[1]), box[2], box[3], linewidth=2, edgecolor='r', facecolor='none')\n",
    "            ax[idx].add_patch(rect)\n",
    "\n",
    "plt.tight_layout(pad=0.1, h_pad=0.1)\n",
    "plt.savefig(\"all_blender_valid.png\")\n",
    "plt.show()"
   ]
  },
  {
   "cell_type": "code",
   "execution_count": null,
   "metadata": {},
   "outputs": [],
   "source": [
    "images = list(Path(\"/home/ritwik/data/blender_boat/satellite/images\").glob(\"*.png\"))[:-1]\n",
    "labels = [str(x).replace(\"images\", \"labels\").replace(\".png\", \".txt\") for x in images]\n",
    "print(len(images))"
   ]
  },
  {
   "cell_type": "code",
   "execution_count": null,
   "metadata": {},
   "outputs": [],
   "source": [
    "fig, ax = plt.subplots(4, 4, figsize=(12, 8))\n",
    "ax = ax.flatten()\n",
    "\n",
    "for idx, paths in enumerate(zip(images, labels)):\n",
    "    img_path = paths[0]\n",
    "    label_path = paths[1]\n",
    "    img = Image.open(img_path)\n",
    "    width = img.width\n",
    "    height = img.height\n",
    "    img = np.array(img.convert('RGB'))\n",
    "    ax[idx].imshow(img)\n",
    "    ax[idx].axis('off')\n",
    "\n",
    "    results = model.predict(img, imgsz=640)\n",
    "\n",
    "    for gt in open(label_path, 'r').readlines():\n",
    "        splits = gt.split(\" \")\n",
    "        cx = float(splits[1])\n",
    "        cy = float(splits[2])\n",
    "        nw = float(splits[3])\n",
    "        nh = float(splits[4])\n",
    "        x, y, w, h = yolo_to_xywh(cx, cy, nw, nh, width, height)\n",
    "        rect = Rectangle((x, y), w, h, linewidth=2, edgecolor='g', facecolor='none')\n",
    "        ax[idx].add_patch(rect)\n",
    "\n",
    "    for r in results:\n",
    "        boxes = r.boxes.xywh.cpu()\n",
    "        for box in boxes:\n",
    "            rect = Rectangle((box[0], box[1]), box[2], box[3], linewidth=2, edgecolor='r', facecolor='none')\n",
    "            ax[idx].add_patch(rect)\n",
    "\n",
    "plt.tight_layout(w_pad=0.1, h_pad=0.05)\n",
    "plt.savefig(\"satellite_blender_valid.jpg\")\n",
    "plt.show()"
   ]
  },
  {
   "cell_type": "code",
   "execution_count": null,
   "metadata": {},
   "outputs": [],
   "source": []
  }
 ],
 "metadata": {
  "kernelspec": {
   "display_name": "zeus",
   "language": "python",
   "name": "python3"
  },
  "language_info": {
   "codemirror_mode": {
    "name": "ipython",
    "version": 3
   },
   "file_extension": ".py",
   "mimetype": "text/x-python",
   "name": "python",
   "nbconvert_exporter": "python",
   "pygments_lexer": "ipython3",
   "version": "3.10.13"
  }
 },
 "nbformat": 4,
 "nbformat_minor": 2
}
